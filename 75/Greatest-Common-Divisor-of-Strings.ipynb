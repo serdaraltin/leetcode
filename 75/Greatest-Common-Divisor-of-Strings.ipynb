{
 "cells": [
  {
   "cell_type": "markdown",
   "metadata": {},
   "source": [
    "# Problem Statement\n",
    "\n",
    "For two strings `str1` and `str2`, we say \"t divides s\" if and only if `s = t + t + t + ... + t + t` (i.e., `t` is concatenated with itself one or more times).\n",
    "\n",
    "Given two strings `str1` and `str2`, return the largest string `x` such that `x` divides both `str1` and `str2`.\n",
    "\n",
    "### Example 1:\n",
    "**Input**: `str1 = \"ABCABC\", str2 = \"ABC\"`  \n",
    "**Output**: `\"ABC\"`\n",
    "\n",
    "### Example 2:\n",
    "**Input**: `str1 = \"ABABAB\", str2 = \"ABAB\"`  \n",
    "**Output**: `\"AB\"`\n",
    "\n",
    "### Example 3:\n",
    "**Input**: `str1 = \"LEET\", str2 = \"CODE\"`  \n",
    "**Output**: `\"\"`\n",
    "\n",
    "### Constraints:\n",
    "- `1 <= str1.length, str2.length <= 1000`\n",
    "- `str1` and `str2` consist of English uppercase letters.\n"
   ]
  },
  {
   "cell_type": "markdown",
   "metadata": {},
   "source": [
    "# Intuition and Approach\n",
    "\n",
    "### Intuition:\n",
    "To solve this problem, we need to find the largest string that can divide both `str1` and `str2`.  \n",
    "A string `t` divides `s` if `s` is a repetition of `t` multiple times. The best approach is to find the **GCD (Greatest Common Divisor)** of the lengths of `str1` and `str2`.  \n",
    "Once we know the GCD of the lengths, we can check if the substring of length equal to the GCD can divide both strings.\n",
    "\n",
    "### Approach:\n",
    "1. Compute the GCD of the lengths of `str1` and `str2`.\n",
    "2. Take the first `gcd_length` characters from `str1` as the candidate string.\n",
    "3. Check if this candidate string divides both `str1` and `str2` by repeating it enough times.\n",
    "4. If it divides both strings, return the candidate string; otherwise, return an empty string.\n"
   ]
  },
  {
   "cell_type": "markdown",
   "metadata": {},
   "source": [
    "# Helper Function - GCD Calculation\n",
    "\n",
    "We need a helper function to calculate the GCD of two integers. We will use **Euclid's algorithm** for this.\n",
    "\n",
    "```python\n",
    "def gcd(a: int, b: int) -> int:\n",
    "    while b:\n",
    "        a, b = b, a % b  # Swap a and b, and take the modulus\n",
    "    return a\n"
   ]
  },
  {
   "cell_type": "markdown",
   "metadata": {},
   "source": [
    "\n",
    "# Main Function - gcdOfStrings\n",
    "\n",
    "The function `gcdOfStrings` will implement the logic to find the GCD of strings.\n",
    "\n",
    "```python\n",
    "def gcdOfStrings(str1: str, str2: str) -> str:\n",
    "    # Step 1: Compute the GCD of the lengths of str1 and str2\n",
    "    gcd_length = gcd(len(str1), len(str2))\n",
    "    \n",
    "    # Step 2: Take the candidate string from str1 of length gcd_length\n",
    "    candidate = str1[:gcd_length]\n",
    "    \n",
    "    # Step 3: Check if the candidate string divides both str1 and str2\n",
    "    if str1 == candidate * (len(str1) // gcd_length) and str2 == candidate * (len(str2) // gcd_length):\n",
    "        return candidate  # If it divides both, return the candidate string\n",
    "    else:\n",
    "        return \"\"  # Otherwise, no such string exists\n"
   ]
  },
  {
   "cell_type": "markdown",
   "metadata": {},
   "source": [
    "\n",
    "# Example Test Cases\n",
    "\n",
    "### Example 1: `str1 = \"ABCABC\", str2 = \"ABC\"`\n",
    "```python\n",
    "str1 = \"ABCABC\"\n",
    "str2 = \"ABC\"\n",
    "result = gcdOfStrings(str1, str2)\n",
    "result  # Expected output: \"ABC\"\n"
   ]
  },
  {
   "cell_type": "markdown",
   "metadata": {},
   "source": [
    "str1 = \"ABABAB\"\n",
    "str2 = \"ABAB\"\n",
    "result = gcdOfStrings(str1, str2)\n",
    "result  # Expected output: \"AB\"\n"
   ]
  },
  {
   "cell_type": "markdown",
   "metadata": {},
   "source": [
    "str1 = \"LEET\"\n",
    "str2 = \"CODE\"\n",
    "result = gcdOfStrings(str1, str2)\n",
    "result  # Expected output: \"\"\n"
   ]
  },
  {
   "cell_type": "markdown",
   "metadata": {},
   "source": [
    "# Time and Space Complexity\n",
    "\n",
    "### Time Complexity:\n",
    "- The time complexity is dominated by the GCD calculation and string comparison.\n",
    "- GCD calculation takes O(log(min(len(str1), len(str2)))) time.\n",
    "- String comparison to check if the candidate divides both strings takes O(n) time, where `n` is the length of the larger string.\n",
    "- Thus, the total time complexity is O(log(min(len(str1), len(str2))) + n).\n",
    "\n",
    "### Space Complexity:\n",
    "- The space complexity is O(n), where `n` is the length of the input strings, as we store the candidate string and perform string comparisons.\n"
   ]
  }
 ],
 "metadata": {
  "language_info": {
   "name": "python"
  }
 },
 "nbformat": 4,
 "nbformat_minor": 2
}
