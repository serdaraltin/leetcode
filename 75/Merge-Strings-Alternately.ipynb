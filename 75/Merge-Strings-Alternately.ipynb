{
 "cells": [
  {
   "cell_type": "markdown",
   "metadata": {},
   "source": [
    "You are given two strings word1 and word2. Merge the strings by adding letters in alternating order, starting with word1. \n",
    "If a string is longer than the other, append the additional letters onto the end of the merged string.\n",
    "\n",
    "Return the merged string.\n",
    "\n",
    "### Example 1:\n",
    "Input:\n",
    "word1 = \"abc\", word2 = \"pqr\"\n",
    "Output:\n",
    "\"apbqcr\"\n",
    "\n",
    "Explanation:\n",
    "The merged string will be merged as so:\n",
    "word1:  a   b   c\n",
    "word2:    p   q   r\n",
    "merged: a p b q c r\n",
    "\n",
    "### Example 2:\n",
    "Input:\n",
    "word1 = \"ab\", word2 = \"pqrs\"\n",
    "Output:\n",
    "\"apbqrs\"\n",
    "\n",
    "Explanation:\n",
    "Notice that as word2 is longer, \"rs\" is appended to the end.\n",
    "word1:  a   b \n",
    "word2:    p   q   r   s\n",
    "merged: a p b q   r   s\n",
    "\n",
    "### Example 3:\n",
    "Input:\n",
    "word1 = \"abcd\", word2 = \"pq\"\n",
    "Output:\n",
    "\"apbqcd\"\n",
    "\n",
    "Explanation:\n",
    "Notice that as word1 is longer, \"cd\" is appended to the end.\n",
    "word1:  a   b   c   d\n",
    "word2:    p   q \n",
    "merged: a p b q c   d\n",
    "\n",
    "### Constraints:\n",
    "- 1 <= word1.length, word2.length <= 100\n",
    "- word1 and word2 consist of lowercase English letters."
   ]
  },
  {
   "cell_type": "markdown",
   "metadata": {},
   "source": [
    "The problem asks to merge two strings by alternating their characters. We can achieve this by iterating through both strings simultaneously and adding one character from each string at a time to the result. \n",
    "If one string is longer, the remaining characters from the longer string should be appended to the result after we exhaust the shorter string."
   ]
  },
  {
   "cell_type": "markdown",
   "metadata": {},
   "source": [
    "We can solve this problem in a few simple steps:\n",
    "\n",
    "1. **Determine the lengths** of the two input strings (`word1` and `word2`).\n",
    "2. Create an empty list `result` that will store the merged characters.\n",
    "3. **Find the minimum length** between the two strings (`min_len`) and iterate through both strings up to this length, alternating characters from each string.\n",
    "4. After the loop, check if any string is longer. If `word1` is longer, append the remaining characters from `word1` to `result`. Similarly, if `word2` is longer, append the remaining characters from `word2`.\n",
    "5. Finally, return the merged string by joining the characters in `result`.\n"
   ]
  },
  {
   "cell_type": "markdown",
   "metadata": {},
   "source": [
    "- **Time Complexity**: O(n), where n is the length of the longest string. We iterate through both strings exactly once, so the total time complexity is linear.\n",
    "- **Space Complexity**: O(n), where n is the total length of both strings combined. We store the result in a list, which requires space proportional to the sum of the lengths of `word1` and `word2`.\n"
   ]
  },
  {
   "cell_type": "code",
   "execution_count": 2,
   "metadata": {},
   "outputs": [],
   "source": [
    "class Solution:\n",
    "    def mergeAlternately(self, word1: str, word2: str) -> str:\n",
    "        word1_len, word2_len = len(word1), len(word2)\n",
    "\n",
    "        # Prepare an empty result list\n",
    "        result = [\"\"] * (word1_len + word2_len)\n",
    "        result_index = 0\n",
    "\n",
    "        # Find the minimum length of both strings\n",
    "        min_len = min(word1_len, word2_len)\n",
    "\n",
    "        # Merge alternating characters from both strings\n",
    "        for i in range(min_len):\n",
    "            result[result_index] = word1[i]\n",
    "            result_index += 1\n",
    "            result[result_index] = word2[i]\n",
    "            result_index += 1\n",
    "\n",
    "        # Append remaining characters from the longer string\n",
    "        if word1_len > word2_len:\n",
    "            result[result_index:] = word1[min_len:]\n",
    "        elif word1_len < word2_len:\n",
    "            result[result_index:] = word2[min_len:]\n",
    "\n",
    "        # Join the result list into a string and return it\n",
    "        return \"\".join(result)"
   ]
  },
  {
   "cell_type": "code",
   "execution_count": 8,
   "metadata": {},
   "outputs": [],
   "source": [
    "# Create an instance of Solution class\n",
    "solution = Solution()"
   ]
  },
  {
   "cell_type": "code",
   "execution_count": 9,
   "metadata": {},
   "outputs": [
    {
     "name": "stdout",
     "output_type": "stream",
     "text": [
      "apbqcr\n"
     ]
    }
   ],
   "source": [
    "# Test case 1\n",
    "word1 = \"abc\"\n",
    "word2 = \"pqr\"\n",
    "print(solution.mergeAlternately(word1, word2))  # Output: \"apbqcr\""
   ]
  },
  {
   "cell_type": "code",
   "execution_count": 10,
   "metadata": {},
   "outputs": [
    {
     "name": "stdout",
     "output_type": "stream",
     "text": [
      "apbqrs\n"
     ]
    }
   ],
   "source": [
    "# Test case 2\n",
    "word1 = \"ab\"\n",
    "word2 = \"pqrs\"\n",
    "print(solution.mergeAlternately(word1, word2))  # Output: \"apbqrs\"\n"
   ]
  },
  {
   "cell_type": "code",
   "execution_count": 11,
   "metadata": {},
   "outputs": [
    {
     "name": "stdout",
     "output_type": "stream",
     "text": [
      "apbqcd\n"
     ]
    }
   ],
   "source": [
    "# Test case 3\n",
    "word1 = \"abcd\"\n",
    "word2 = \"pq\"\n",
    "print(solution.mergeAlternately(word1, word2))  # Output: \"apbqcd\""
   ]
  }
 ],
 "metadata": {
  "kernelspec": {
   "display_name": "Python 3",
   "language": "python",
   "name": "python3"
  },
  "language_info": {
   "codemirror_mode": {
    "name": "ipython",
    "version": 3
   },
   "file_extension": ".py",
   "mimetype": "text/x-python",
   "name": "python",
   "nbconvert_exporter": "python",
   "pygments_lexer": "ipython3",
   "version": "3.12.3"
  }
 },
 "nbformat": 4,
 "nbformat_minor": 2
}
